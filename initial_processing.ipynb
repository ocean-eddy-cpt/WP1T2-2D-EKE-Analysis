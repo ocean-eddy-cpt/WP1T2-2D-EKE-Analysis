{
 "cells": [
  {
   "cell_type": "code",
   "execution_count": 1,
   "metadata": {},
   "outputs": [],
   "source": [
    "# this script takes satellite data from catalog, \n",
    "# parses to place on regularly gridded array, and interpolates nan across desired gaps in space and time\n",
    "\n",
    "import numpy as np\n",
    "import xarray as xr \n",
    "import time \n",
    "from intake import open_catalog\n",
    "from matplotlib.colors import LogNorm\n",
    "import matplotlib\n",
    "import matplotlib.pyplot as plt\n",
    "from scipy import interpolate\n",
    "from scipy import integrate\n",
    "from datetime import datetime\n",
    "from tqdm.notebook import tqdm\n",
    "import pickle \n",
    "from altimetry_tools import Haversine, nan_helper, interp_nans, parse_grid_tracks, smooth_tracks, coarsen, specsharp, spectra_slopes\n",
    "import warnings \n",
    "warnings.filterwarnings('ignore')\n",
    "%matplotlib inline\n",
    "\n",
    "# -- main PARAMETERS --- \n",
    "this_sat = 'al'              # mission to consider \n",
    "hor_grid_spacing = 20        # km, grid to which to interpolate tracks\n",
    "interp_cutoff = 3            # number of acceptable nan gaps in grid cell units across which to interpolate\n",
    "# coarsening_factor0 = 7     # (*hor_grid_spacing = coarsened grid size) this factor should be multiplied by hor_grid_spacing \n",
    "# nyquist_wavelength = np.pi   # factor relative to coarsening factor (what scales do we want to resolve...pi times the grid scale)\n",
    "# f_type = 'sharp'             # filter type (gaussian or sharp)\n",
    "# -----------------------\n",
    "# -- coastline file \n",
    "x4 = xr.open_dataset('/home/jovyan/along-track-altimetry-analysis/misc/coastlines_global.nc')  \n",
    "# -- deformation radius \n",
    "# Chelton et al. 1998 'global variability of the first baroclinic rossby radius of deformation'\n",
    "c98 = xr.open_dataset('/home/jovyan/along-track-altimetry-analysis/misc/global_deformation_radius_chelton_1998.nc')  \n",
    "c98 = c98['values'].data\n",
    "# (http://www-po.coas.oregonstate.edu/research/po/research/rossby_radius/index.html#anchor2)\n",
    "# -- catalog of available satellites \n",
    "cat = open_catalog(\"https://raw.githubusercontent.com/pangeo-data/pangeo-datastore/master/intake-catalogs/ocean/altimetry.yaml\")# load individual satellite \n",
    "# ['al', 'alg', 'c2', 'e1', 'e1g', 'e2', 'en', 'enn', 'g2', 'h2', 'j1', 'j1g', 'j1n', 'j2', 'j2g', 'j2n', 'j3', 's3a', 's3b', 'tp', 'tpn']\n",
    "\n",
    "# -- lat/lon boundaries (permits subsetting to speed processing time)\n",
    "lon_w = 0\n",
    "lon_e = 360\n",
    "lat_s = -65\n",
    "lat_n = 65"
   ]
  },
  {
   "cell_type": "code",
   "execution_count": 2,
   "metadata": {},
   "outputs": [
    {
     "name": "stdout",
     "output_type": "stream",
     "text": [
      "CPU times: user 5.98 s, sys: 2.88 s, total: 8.87 s\n",
      "Wall time: 4.15 s\n",
      "CPU times: user 229 ms, sys: 293 ms, total: 522 ms\n",
      "Wall time: 521 ms\n",
      "tracks in domain\n",
      "[  1.   2.   3.   4.   5.   6.   7.   8.   9.  10.  11.  12.  13.  14.\n",
      "  15.  16.  17.  18.  19.  20.  21.  22.  23.  24.  25.  26.  27.  28.\n",
      "  29.  30.  31.  32.  33.  34.  35.  36.  37.  38.  39.  40.  41.  42.\n",
      "  43.  44.  45.  46.  47.  48.  49.  50.  51.  52.  53.  54.  55.  56.\n",
      "  57.  58.  59.  60.  61.  62.  63.  64.  65.  66.  67.  68.  69.  70.\n",
      "  71.  72.  73.  74.  75.  76.  77.  78.  79.  80.  81.  82.  83.  84.\n",
      "  85.  86.  87.  88.  89.  90.  91.  92.  93.  94.  95.  96.  97.  98.\n",
      "  99. 100. 101. 102. 103. 104. 105. 106. 107. 108. 109. 110. 111. 112.\n",
      " 113. 114. 115. 116. 117. 118. 119. 120. 121. 122. 123. 124. 125. 126.\n",
      " 127. 128. 129. 130. 131. 132. 133. 134. 135. 136. 137. 138. 139. 140.\n",
      " 141. 142. 143. 144. 145. 146. 147. 148. 149. 150. 151. 152. 153. 154.\n",
      " 155. 156. 157. 158. 159. 160. 161. 162. 163. 164. 165. 166. 167. 168.\n",
      " 169. 170. 171. 172. 173. 174. 175. 176. 177. 178. 179. 180. 181. 182.\n",
      " 183. 184. 185. 186. 187. 188. 189. 190. 191. 192. 193. 194. 195. 196.\n",
      " 197. 198. 199. 200. 201. 202. 203. 204. 205. 206. 207. 208. 209. 210.\n",
      " 211. 212. 213. 214. 215. 216. 217. 218. 219. 220. 221. 222. 223. 224.\n",
      " 225. 226. 227. 228. 229. 230. 231. 232. 233. 234. 235. 236. 237. 238.\n",
      " 239. 240. 241. 242. 243. 244. 245. 246. 247. 248. 249. 250. 251. 252.\n",
      " 253. 254. 255. 256. 257. 258. 259. 260. 261. 262. 263. 264. 265. 266.\n",
      " 267. 268. 269. 270. 271. 272. 273. 274. 275. 276. 277. 278. 279. 280.\n",
      " 281. 282. 283. 284. 285. 286. 287. 288. 289. 290. 291. 292. 293. 294.\n",
      " 295. 296. 297. 298. 299. 300. 301. 302. 303. 304. 305. 306. 307. 308.\n",
      " 309. 310. 311. 312. 313. 314. 315. 316. 317. 318. 319. 320. 321. 322.\n",
      " 323. 324. 325. 326. 327. 328. 329. 330. 331. 332. 333. 334. 335. 336.\n",
      " 337. 338. 339. 340. 341. 342. 343. 344. 345. 346. 347. 348. 349. 350.\n",
      " 351. 352. 353. 354. 355. 356. 357. 358. 359. 360. 361. 362. 363. 364.\n",
      " 365. 366. 367. 368. 369. 370. 371. 372. 373. 374. 375. 376. 377. 378.\n",
      " 379. 380. 381. 382. 383. 384. 385. 386. 387. 388. 389. 390. 391. 392.\n",
      " 393. 394. 395. 396. 397. 398. 399. 400. 401. 402. 403. 404. 405. 406.\n",
      " 407. 408. 409. 410. 411. 412. 413. 414. 415. 416. 417. 418. 419. 420.\n",
      " 421. 422. 423. 424. 425. 426. 427. 428. 429. 430. 431. 432. 433. 434.\n",
      " 435. 436. 437. 438. 439. 440. 441. 442. 443. 444. 445. 446. 447. 448.\n",
      " 449. 450. 451. 452. 453. 454. 455. 456. 457. 458. 459. 460. 461. 462.\n",
      " 463. 464. 465. 466. 467. 468. 469. 470. 471. 472. 473. 474. 475. 476.\n",
      " 477. 478. 479. 480. 481. 482. 483. 484. 485. 486. 487. 488. 489. 490.\n",
      " 491. 492. 493. 494. 495. 496. 497. 498. 499. 500. 501. 502. 503. 504.\n",
      " 505. 506. 507. 508. 509. 510. 511. 512. 513. 514. 515. 516. 517. 518.\n",
      " 519. 520. 521. 522. 523. 524. 525. 526. 527. 528. 529. 530. 531. 532.\n",
      " 533. 534. 535. 536. 537. 538. 539. 540. 541. 542. 543. 544. 545. 546.\n",
      " 547. 548. 549. 550. 551. 552. 553. 554. 555. 556. 557. 558. 559. 560.\n",
      " 561. 562. 563. 564. 565. 566. 567. 568. 569. 570. 571. 572. 573. 574.\n",
      " 575. 576. 577. 578. 579. 580. 581. 582. 583. 584. 585. 586. 587. 588.\n",
      " 589. 590. 591. 592. 593. 594. 595. 596. 597. 598. 599. 600. 601. 602.\n",
      " 603. 604. 605. 606. 607. 608. 609. 610. 611. 612. 613. 614. 615. 616.\n",
      " 617. 618. 619. 620. 621. 622. 623. 624. 625. 626. 627. 628. 629. 630.\n",
      " 631. 632. 633. 634. 635. 636. 637. 638. 639. 640. 641. 642. 643. 644.\n",
      " 645. 646. 647. 648. 649. 650. 651. 652. 653. 654. 655. 656. 657. 658.\n",
      " 659. 660. 661. 662. 663. 664. 665. 666. 667. 668. 669. 670. 671. 672.\n",
      " 673. 674. 675. 676. 677. 678. 679. 680. 681. 682. 683. 684. 685. 686.\n",
      " 687. 688. 689. 690. 691. 692. 693. 694. 695. 696. 697. 698. 699. 700.\n",
      " 701. 702. 703. 704. 705. 706. 707. 708. 709. 710. 711. 712. 713. 714.\n",
      " 715. 716. 717. 718. 719. 720. 721. 722. 723. 724. 725. 726. 727. 728.\n",
      " 729. 730. 731. 732. 733. 734. 735. 736. 737. 738. 739. 740. 741. 742.\n",
      " 743. 744. 745. 746. 747. 748. 749. 750. 751. 752. 753. 754. 755. 756.\n",
      " 757. 758. 759. 760. 761. 762. 763. 764. 765. 766. 767. 768. 769. 770.]\n",
      "repeat time = 26 days 23:59:49.041356032\n",
      "nominal grid spacing = 6.637683586474939km\n"
     ]
    }
   ],
   "source": [
    "# ------------------------------------------------------------------------------------------------\n",
    "# RUN ONLY if parsed tracks file doesn't exist (should have a parsed file for each satellite)\n",
    "# ------------------------------------------------------------------------------------------------\n",
    "# load individual sat (your choice) and convert to dataframe from dataset \n",
    "ds2_0 = cat[this_sat].to_dask()\n",
    "%time ds2 = ds2_0[['latitude', 'longitude', 'sla_unfiltered', 'sla_filtered', 'track', 'cycle', 'mdt']].reset_coords().astype('f4').load()\n",
    "%time df2 = ds2.to_dataframe()\n",
    "df2_s = df2[(df2['longitude'] > lon_w) & (df2['longitude'] < lon_e) & (df2['latitude'] > lat_s) & (df2['latitude'] < lat_n)]\n",
    "in_tracks2 = np.unique(df2_s['track'])\n",
    "print('tracks in domain')\n",
    "print(in_tracks2)\n",
    "\n",
    "test = df2_s[df2_s['track'] == 11]  # 9 is standard\n",
    "p = test.index\n",
    "ts = (p - np.datetime64('1970-01-01T00:00:00Z')) / np.timedelta64(1, 's')\n",
    "test2 = np.where(np.diff(ts) > 24*60*60)[0]\n",
    "repeat_time = p[test2[3]] - p[test2[2]]\n",
    "print('repeat time = ' + str(repeat_time))\n",
    "\n",
    "test0 = df2_s[df2_s['track'] == in_tracks2[10]]  # 11\n",
    "in_cycles0 = np.unique(test0['cycle'])\n",
    "test1 = test0[test0['cycle'] == in_cycles0[0]]  # 20\n",
    "ii = 5\n",
    "d = Haversine(test1['latitude'][ii], test1['longitude'][ii], test1['latitude'][ii-1], test1['longitude'][ii-1])\n",
    "print('nominal grid spacing = ' + str(d) + 'km')"
   ]
  },
  {
   "cell_type": "code",
   "execution_count": 3,
   "metadata": {},
   "outputs": [
    {
     "data": {
      "application/vnd.jupyter.widget-view+json": {
       "model_id": "6e03ffb696c644d1a7c7593af40e6e0a",
       "version_major": 2,
       "version_minor": 0
      },
      "text/plain": [
       "  0%|          | 0/770 [00:00<?, ?it/s]"
      ]
     },
     "metadata": {},
     "output_type": "display_data"
    },
    {
     "name": "stdout",
     "output_type": "stream",
     "text": [
      "CPU times: user 8min 39s, sys: 15 s, total: 8min 54s\n",
      "Wall time: 8min 54s\n"
     ]
    }
   ],
   "source": [
    "# ------------------------------------------------------------------------------------------------\n",
    "# RUN ONLY if parsed tracks file doesn't exist (should have a parsed file for each satellite)\n",
    "# ------------------------------------------------------------------------------------------------\n",
    "\n",
    "# -- PARSE_grid_tracks (interpolate nans and group by track) (sla dimensions = [track_number][cycle, along_track_grid])\n",
    "f_v_uf = 1  # if 1, use filtered product from aviso \n",
    "%time lon_t, lat_t, track_t, adt, sla, dist, lon_record, lat_record, time_record, track_record \\\n",
    "    = parse_grid_tracks(in_tracks2, df2_s, hor_grid_spacing, interp_cutoff, f_v_uf)\n",
    "\n",
    "del sla   # make more memory space \n",
    "# del adt     # check which variable I want to export...and change outputs below"
   ]
  },
  {
   "cell_type": "code",
   "execution_count": 5,
   "metadata": {},
   "outputs": [],
   "source": [
    "# ---------------   \n",
    "# -- export to pickle so that we don't have to run/parse everytime \n",
    "# ---------------\n",
    "save_p = 1\n",
    "if save_p > 0:\n",
    "    outputs = {'lon_t': lon_t, 'lat_t': lat_t, 'track_t': track_t, 'adt': adt, \\\n",
    "               'dist': dist, 'lon_record': lon_record, 'lat_record': lat_record, \\\n",
    "               'time_record': time_record, 'track_record': track_record, \\\n",
    "               'repeat_time': repeat_time, 'interp_cutoff': interp_cutoff}\n",
    "    pickle.dump(outputs, open(this_sat + '/' + this_sat + '_parsed_tracks_adt_x20.p', 'wb'))\n",
    "# ------------------------------------------------------------------------------------------------"
   ]
  },
  {
   "cell_type": "code",
   "execution_count": 2,
   "metadata": {},
   "outputs": [
    {
     "data": {
      "application/vnd.jupyter.widget-view+json": {
       "model_id": "e76aa510f33e443095e78f5293bd56f3",
       "version_major": 2,
       "version_minor": 0
      },
      "text/plain": [
       "  0%|          | 0/1002 [00:00<?, ?it/s]"
      ]
     },
     "metadata": {},
     "output_type": "display_data"
    }
   ],
   "source": [
    "# ------------------------------------------------------------------------------------------------\n",
    "# RUN AFTER parse_grid_tracks is completed  (should have a parsed file for each satellite)\n",
    "# now interpolate in time (input should be output file from above cell)\n",
    "# ------------------------------------------------------------------------------------------------\n",
    "# load_sat = pickle.load(open(this_sat + '/' + this_sat +'_parsed_tracks_adt.p', 'rb'))\n",
    "# adt = load_sat['adt']\n",
    "load_sat = pickle.load(open(this_sat + '/' + this_sat +'_parsed_tracks_adt_x20.p', 'rb'))\n",
    "adt = load_sat['adt']\n",
    "# -- interpolate in time \n",
    "interp_cutoff_t = 5  # time step to interpolate across (number samples, not a unit of time)\n",
    "adt_time = []\n",
    "sla_time = []\n",
    "# - loop over tracks \n",
    "for i in tqdm(range(len(adt))):\n",
    "    # - loop over along-track gridpoints \n",
    "    # this_interp_t_sla = np.nan * np.ones(np.shape(sla[i]))\n",
    "    this_interp_t_adt = np.nan * np.ones(np.shape(adt[i]))\n",
    "    for j in range(np.shape(adt[i])[1]): \n",
    "        # this_data_1 = sla[i][:, j]\n",
    "        this_data_2 = adt[i][:, j]\n",
    "        # if np.sum(np.isnan(this_data_1)) > 0:\n",
    "        #     nans, x = nan_helper(this_data_1)\n",
    "        #     this_interp_t_sla[:, j] = interp_nans(this_data_1, nans, x, interp_cutoff_t)\n",
    "        # else:\n",
    "        #     this_interp_t_sla[:, j] = this_data_1.copy()\n",
    "        if np.sum(np.isnan(this_data_2)) > 0:\n",
    "            nans, x = nan_helper(this_data_2)\n",
    "            this_interp_t_adt[:, j] = interp_nans(this_data_2, nans, x, interp_cutoff_t)\n",
    "        else:\n",
    "            this_interp_t_adt[:, j] = this_data_2.copy()\n",
    "    # sla_time.append(this_interp_t_sla)\n",
    "    adt_time.append(this_interp_t_adt)\n",
    "    \n",
    "save_p = 1\n",
    "if save_p > 0:\n",
    "    outputs = {'adt': adt_time}\n",
    "    pickle.dump(outputs, open(this_sat + '/' + this_sat + '_parsed_tracks_adt_x20_interp_t.p', 'wb'))"
   ]
  },
  {
   "cell_type": "code",
   "execution_count": null,
   "metadata": {},
   "outputs": [],
   "source": []
  }
 ],
 "metadata": {
  "kernelspec": {
   "display_name": "Python 3",
   "language": "python",
   "name": "python3"
  },
  "language_info": {
   "codemirror_mode": {
    "name": "ipython",
    "version": 3
   },
   "file_extension": ".py",
   "mimetype": "text/x-python",
   "name": "python",
   "nbconvert_exporter": "python",
   "pygments_lexer": "ipython3",
   "version": "3.8.6"
  }
 },
 "nbformat": 4,
 "nbformat_minor": 4
}
